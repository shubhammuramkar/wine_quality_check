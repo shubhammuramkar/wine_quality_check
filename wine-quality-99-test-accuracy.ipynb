{
 "cells": [
  {
   "cell_type": "code",
   "execution_count": 8,
   "metadata": {},
   "outputs": [],
   "source": [
    "import numpy as np\n",
    "import pandas as pd\n",
    "import matplotlib.pyplot as plt\n",
    "import seaborn as sns\n",
    "%matplotlib inline"
   ]
  },
  {
   "cell_type": "code",
   "execution_count": 9,
   "metadata": {
    "execution": {
     "iopub.execute_input": "2022-01-16T14:00:08.704834Z",
     "iopub.status.busy": "2022-01-16T14:00:08.703514Z",
     "iopub.status.idle": "2022-01-16T14:00:10.521742Z",
     "shell.execute_reply": "2022-01-16T14:00:10.520737Z",
     "shell.execute_reply.started": "2022-01-16T14:00:08.704773Z"
    }
   },
   "outputs": [],
   "source": [
    "import matplotlib.pyplot as plt, seaborn as sns\n",
    "from imblearn.over_sampling import SMOTE\n",
    "\n",
    "from scipy.stats import pearsonr\n",
    "\n",
    "from sklearn.model_selection import train_test_split, KFold, cross_val_score, RandomizedSearchCV\n",
    "from sklearn.linear_model import LogisticRegression\n",
    "from sklearn.preprocessing import MinMaxScaler, LabelBinarizer\n",
    "from sklearn.metrics import classification_report"
   ]
  },
  {
   "cell_type": "code",
   "execution_count": 10,
   "metadata": {
    "execution": {
     "iopub.execute_input": "2022-01-16T14:00:14.914271Z",
     "iopub.status.busy": "2022-01-16T14:00:14.913406Z",
     "iopub.status.idle": "2022-01-16T14:00:14.981638Z",
     "shell.execute_reply": "2022-01-16T14:00:14.980499Z",
     "shell.execute_reply.started": "2022-01-16T14:00:14.914228Z"
    }
   },
   "outputs": [
    {
     "data": {
      "text/html": [
       "<div>\n",
       "<style scoped>\n",
       "    .dataframe tbody tr th:only-of-type {\n",
       "        vertical-align: middle;\n",
       "    }\n",
       "\n",
       "    .dataframe tbody tr th {\n",
       "        vertical-align: top;\n",
       "    }\n",
       "\n",
       "    .dataframe thead th {\n",
       "        text-align: right;\n",
       "    }\n",
       "</style>\n",
       "<table border=\"1\" class=\"dataframe\">\n",
       "  <thead>\n",
       "    <tr style=\"text-align: right;\">\n",
       "      <th></th>\n",
       "      <th>type</th>\n",
       "      <th>fixed acidity</th>\n",
       "      <th>volatile acidity</th>\n",
       "      <th>citric acid</th>\n",
       "      <th>residual sugar</th>\n",
       "      <th>chlorides</th>\n",
       "      <th>free sulfur dioxide</th>\n",
       "      <th>total sulfur dioxide</th>\n",
       "      <th>density</th>\n",
       "      <th>pH</th>\n",
       "      <th>sulphates</th>\n",
       "      <th>alcohol</th>\n",
       "      <th>quality</th>\n",
       "    </tr>\n",
       "  </thead>\n",
       "  <tbody>\n",
       "    <tr>\n",
       "      <th>0</th>\n",
       "      <td>white</td>\n",
       "      <td>7.0</td>\n",
       "      <td>0.27</td>\n",
       "      <td>0.36</td>\n",
       "      <td>20.7</td>\n",
       "      <td>0.045</td>\n",
       "      <td>45.0</td>\n",
       "      <td>170.0</td>\n",
       "      <td>1.0010</td>\n",
       "      <td>3.00</td>\n",
       "      <td>0.45</td>\n",
       "      <td>8.8</td>\n",
       "      <td>6</td>\n",
       "    </tr>\n",
       "    <tr>\n",
       "      <th>1</th>\n",
       "      <td>white</td>\n",
       "      <td>6.3</td>\n",
       "      <td>0.30</td>\n",
       "      <td>0.34</td>\n",
       "      <td>1.6</td>\n",
       "      <td>0.049</td>\n",
       "      <td>14.0</td>\n",
       "      <td>132.0</td>\n",
       "      <td>0.9940</td>\n",
       "      <td>3.30</td>\n",
       "      <td>0.49</td>\n",
       "      <td>9.5</td>\n",
       "      <td>6</td>\n",
       "    </tr>\n",
       "    <tr>\n",
       "      <th>2</th>\n",
       "      <td>white</td>\n",
       "      <td>8.1</td>\n",
       "      <td>0.28</td>\n",
       "      <td>0.40</td>\n",
       "      <td>6.9</td>\n",
       "      <td>0.050</td>\n",
       "      <td>30.0</td>\n",
       "      <td>97.0</td>\n",
       "      <td>0.9951</td>\n",
       "      <td>3.26</td>\n",
       "      <td>0.44</td>\n",
       "      <td>10.1</td>\n",
       "      <td>6</td>\n",
       "    </tr>\n",
       "    <tr>\n",
       "      <th>3</th>\n",
       "      <td>white</td>\n",
       "      <td>7.2</td>\n",
       "      <td>0.23</td>\n",
       "      <td>0.32</td>\n",
       "      <td>8.5</td>\n",
       "      <td>0.058</td>\n",
       "      <td>47.0</td>\n",
       "      <td>186.0</td>\n",
       "      <td>0.9956</td>\n",
       "      <td>3.19</td>\n",
       "      <td>0.40</td>\n",
       "      <td>9.9</td>\n",
       "      <td>6</td>\n",
       "    </tr>\n",
       "    <tr>\n",
       "      <th>4</th>\n",
       "      <td>white</td>\n",
       "      <td>7.2</td>\n",
       "      <td>0.23</td>\n",
       "      <td>0.32</td>\n",
       "      <td>8.5</td>\n",
       "      <td>0.058</td>\n",
       "      <td>47.0</td>\n",
       "      <td>186.0</td>\n",
       "      <td>0.9956</td>\n",
       "      <td>3.19</td>\n",
       "      <td>0.40</td>\n",
       "      <td>9.9</td>\n",
       "      <td>6</td>\n",
       "    </tr>\n",
       "  </tbody>\n",
       "</table>\n",
       "</div>"
      ],
      "text/plain": [
       "    type  fixed acidity  volatile acidity  citric acid  residual sugar  \\\n",
       "0  white            7.0              0.27         0.36            20.7   \n",
       "1  white            6.3              0.30         0.34             1.6   \n",
       "2  white            8.1              0.28         0.40             6.9   \n",
       "3  white            7.2              0.23         0.32             8.5   \n",
       "4  white            7.2              0.23         0.32             8.5   \n",
       "\n",
       "   chlorides  free sulfur dioxide  total sulfur dioxide  density    pH  \\\n",
       "0      0.045                 45.0                 170.0   1.0010  3.00   \n",
       "1      0.049                 14.0                 132.0   0.9940  3.30   \n",
       "2      0.050                 30.0                  97.0   0.9951  3.26   \n",
       "3      0.058                 47.0                 186.0   0.9956  3.19   \n",
       "4      0.058                 47.0                 186.0   0.9956  3.19   \n",
       "\n",
       "   sulphates  alcohol  quality  \n",
       "0       0.45      8.8        6  \n",
       "1       0.49      9.5        6  \n",
       "2       0.44     10.1        6  \n",
       "3       0.40      9.9        6  \n",
       "4       0.40      9.9        6  "
      ]
     },
     "execution_count": 10,
     "metadata": {},
     "output_type": "execute_result"
    }
   ],
   "source": [
    "df = pd.read_csv('data/winequalityN.csv')\n",
    "df.head()"
   ]
  },
  {
   "cell_type": "code",
   "execution_count": 11,
   "metadata": {
    "execution": {
     "iopub.execute_input": "2022-01-16T14:00:18.754427Z",
     "iopub.status.busy": "2022-01-16T14:00:18.754092Z",
     "iopub.status.idle": "2022-01-16T14:00:18.769188Z",
     "shell.execute_reply": "2022-01-16T14:00:18.768563Z",
     "shell.execute_reply.started": "2022-01-16T14:00:18.75437Z"
    }
   },
   "outputs": [
    {
     "data": {
      "text/plain": [
       "white    4898\n",
       "red      1599\n",
       "Name: type, dtype: int64"
      ]
     },
     "execution_count": 11,
     "metadata": {},
     "output_type": "execute_result"
    }
   ],
   "source": [
    "df.type.value_counts()"
   ]
  },
  {
   "cell_type": "code",
   "execution_count": 12,
   "metadata": {
    "execution": {
     "iopub.execute_input": "2022-01-16T14:00:21.879832Z",
     "iopub.status.busy": "2022-01-16T14:00:21.878828Z",
     "iopub.status.idle": "2022-01-16T14:00:21.904882Z",
     "shell.execute_reply": "2022-01-16T14:00:21.903942Z",
     "shell.execute_reply.started": "2022-01-16T14:00:21.87978Z"
    }
   },
   "outputs": [
    {
     "name": "stdout",
     "output_type": "stream",
     "text": [
      "<class 'pandas.core.frame.DataFrame'>\n",
      "RangeIndex: 6497 entries, 0 to 6496\n",
      "Data columns (total 13 columns):\n",
      " #   Column                Non-Null Count  Dtype  \n",
      "---  ------                --------------  -----  \n",
      " 0   type                  6497 non-null   object \n",
      " 1   fixed acidity         6487 non-null   float64\n",
      " 2   volatile acidity      6489 non-null   float64\n",
      " 3   citric acid           6494 non-null   float64\n",
      " 4   residual sugar        6495 non-null   float64\n",
      " 5   chlorides             6495 non-null   float64\n",
      " 6   free sulfur dioxide   6497 non-null   float64\n",
      " 7   total sulfur dioxide  6497 non-null   float64\n",
      " 8   density               6497 non-null   float64\n",
      " 9   pH                    6488 non-null   float64\n",
      " 10  sulphates             6493 non-null   float64\n",
      " 11  alcohol               6497 non-null   float64\n",
      " 12  quality               6497 non-null   int64  \n",
      "dtypes: float64(11), int64(1), object(1)\n",
      "memory usage: 660.0+ KB\n"
     ]
    }
   ],
   "source": [
    "df.info()"
   ]
  },
  {
   "cell_type": "code",
   "execution_count": 13,
   "metadata": {
    "execution": {
     "iopub.execute_input": "2022-01-16T14:00:25.735255Z",
     "iopub.status.busy": "2022-01-16T14:00:25.734754Z",
     "iopub.status.idle": "2022-01-16T14:00:25.747117Z",
     "shell.execute_reply": "2022-01-16T14:00:25.745917Z",
     "shell.execute_reply.started": "2022-01-16T14:00:25.735218Z"
    }
   },
   "outputs": [
    {
     "data": {
      "text/plain": [
       "type                    0.000000\n",
       "fixed acidity           0.153917\n",
       "volatile acidity        0.123134\n",
       "citric acid             0.046175\n",
       "residual sugar          0.030783\n",
       "chlorides               0.030783\n",
       "free sulfur dioxide     0.000000\n",
       "total sulfur dioxide    0.000000\n",
       "density                 0.000000\n",
       "pH                      0.138525\n",
       "sulphates               0.061567\n",
       "alcohol                 0.000000\n",
       "quality                 0.000000\n",
       "dtype: float64"
      ]
     },
     "execution_count": 13,
     "metadata": {},
     "output_type": "execute_result"
    }
   ],
   "source": [
    "100*df.isnull().sum()/len(df)"
   ]
  },
  {
   "cell_type": "code",
   "execution_count": 14,
   "metadata": {
    "execution": {
     "iopub.execute_input": "2022-01-16T14:00:29.119903Z",
     "iopub.status.busy": "2022-01-16T14:00:29.119619Z",
     "iopub.status.idle": "2022-01-16T14:00:29.137052Z",
     "shell.execute_reply": "2022-01-16T14:00:29.136132Z",
     "shell.execute_reply.started": "2022-01-16T14:00:29.119871Z"
    }
   },
   "outputs": [
    {
     "data": {
      "text/plain": [
       "type                    0.0\n",
       "fixed acidity           0.0\n",
       "volatile acidity        0.0\n",
       "citric acid             0.0\n",
       "residual sugar          0.0\n",
       "chlorides               0.0\n",
       "free sulfur dioxide     0.0\n",
       "total sulfur dioxide    0.0\n",
       "density                 0.0\n",
       "pH                      0.0\n",
       "sulphates               0.0\n",
       "alcohol                 0.0\n",
       "quality                 0.0\n",
       "dtype: float64"
      ]
     },
     "execution_count": 14,
     "metadata": {},
     "output_type": "execute_result"
    }
   ],
   "source": [
    "df = df.dropna()\n",
    "100*df.isnull().sum()/len(df)"
   ]
  },
  {
   "cell_type": "code",
   "execution_count": 15,
   "metadata": {
    "execution": {
     "iopub.execute_input": "2022-01-16T14:00:30.960681Z",
     "iopub.status.busy": "2022-01-16T14:00:30.959778Z",
     "iopub.status.idle": "2022-01-16T14:00:30.972897Z",
     "shell.execute_reply": "2022-01-16T14:00:30.971982Z",
     "shell.execute_reply.started": "2022-01-16T14:00:30.960635Z"
    }
   },
   "outputs": [
    {
     "data": {
      "text/plain": [
       "(['type'],\n",
       " ['fixed acidity',\n",
       "  'volatile acidity',\n",
       "  'citric acid',\n",
       "  'residual sugar',\n",
       "  'chlorides',\n",
       "  'free sulfur dioxide',\n",
       "  'total sulfur dioxide',\n",
       "  'density',\n",
       "  'pH',\n",
       "  'sulphates',\n",
       "  'alcohol',\n",
       "  'quality'])"
      ]
     },
     "execution_count": 15,
     "metadata": {},
     "output_type": "execute_result"
    }
   ],
   "source": [
    "categorical_columns = list(df.select_dtypes(include='object').columns)\n",
    "numerical_columns = list(df.select_dtypes(exclude='object').columns)\n",
    "categorical_columns, numerical_columns"
   ]
  },
  {
   "cell_type": "code",
   "execution_count": 16,
   "metadata": {
    "execution": {
     "iopub.execute_input": "2022-01-16T14:00:34.419948Z",
     "iopub.status.busy": "2022-01-16T14:00:34.419671Z",
     "iopub.status.idle": "2022-01-16T14:00:35.684696Z",
     "shell.execute_reply": "2022-01-16T14:00:35.68359Z",
     "shell.execute_reply.started": "2022-01-16T14:00:34.419919Z"
    }
   },
   "outputs": [
    {
     "data": {
      "image/png": "[encoded data removed]",
      "text/plain": [
       "<Figure size 1440x576 with 12 Axes>"
      ]
     },
     "metadata": {
      "needs_background": "light"
     },
     "output_type": "display_data"
    }
   ],
   "source": [
    "df[numerical_columns].plot(kind='box', subplots=True, layout=(4,3), legend=True, figsize=(20,8))\n",
    "plt.show()"
   ]
  },
  {
   "cell_type": "code",
   "execution_count": 17,
   "metadata": {
    "execution": {
     "iopub.execute_input": "2022-01-16T14:00:35.687225Z",
     "iopub.status.busy": "2022-01-16T14:00:35.686689Z",
     "iopub.status.idle": "2022-01-16T14:00:35.693871Z",
     "shell.execute_reply": "2022-01-16T14:00:35.693011Z",
     "shell.execute_reply.started": "2022-01-16T14:00:35.687168Z"
    }
   },
   "outputs": [],
   "source": [
    "def outlier_removal(feature):\n",
    "    Q1 = df[feature].quantile(0.25)\n",
    "    Q2 = df[feature].quantile(0.75)\n",
    "    IQR = Q2 - Q1\n",
    "    upper = Q2 + (1.5*IQR)\n",
    "    lower = Q1 - (1.5*IQR)\n",
    "    new =  df[(df[feature]>=lower) & (df[feature]<=upper)]\n",
    "    return new"
   ]
  },
  {
   "cell_type": "code",
   "execution_count": 18,
   "metadata": {
    "execution": {
     "iopub.execute_input": "2022-01-16T14:00:40.874235Z",
     "iopub.status.busy": "2022-01-16T14:00:40.873948Z",
     "iopub.status.idle": "2022-01-16T14:00:41.995986Z",
     "shell.execute_reply": "2022-01-16T14:00:41.995008Z",
     "shell.execute_reply.started": "2022-01-16T14:00:40.874204Z"
    }
   },
   "outputs": [
    {
     "data": {
      "image/png": "[encoded data removed]",
      "text/plain": [
       "<Figure size 1440x576 with 12 Axes>"
      ]
     },
     "metadata": {
      "needs_background": "light"
     },
     "output_type": "display_data"
    }
   ],
   "source": [
    "for columns in numerical_columns:\n",
    "    df = outlier_removal(columns)\n",
    "    \n",
    "df[numerical_columns].plot(kind='box', subplots=True, layout=(4,3), legend=True, figsize=(20,8))\n",
    "plt.show()"
   ]
  },
  {
   "cell_type": "code",
   "execution_count": 19,
   "metadata": {
    "execution": {
     "iopub.execute_input": "2022-01-16T14:00:42.549742Z",
     "iopub.status.busy": "2022-01-16T14:00:42.549176Z",
     "iopub.status.idle": "2022-01-16T14:00:42.564987Z",
     "shell.execute_reply": "2022-01-16T14:00:42.563884Z",
     "shell.execute_reply.started": "2022-01-16T14:00:42.549689Z"
    }
   },
   "outputs": [
    {
     "name": "stdout",
     "output_type": "stream",
     "text": [
      "<class 'pandas.core.frame.DataFrame'>\n",
      "Int64Index: 4395 entries, 1 to 6496\n",
      "Data columns (total 13 columns):\n",
      " #   Column                Non-Null Count  Dtype  \n",
      "---  ------                --------------  -----  \n",
      " 0   type                  4395 non-null   object \n",
      " 1   fixed acidity         4395 non-null   float64\n",
      " 2   volatile acidity      4395 non-null   float64\n",
      " 3   citric acid           4395 non-null   float64\n",
      " 4   residual sugar        4395 non-null   float64\n",
      " 5   chlorides             4395 non-null   float64\n",
      " 6   free sulfur dioxide   4395 non-null   float64\n",
      " 7   total sulfur dioxide  4395 non-null   float64\n",
      " 8   density               4395 non-null   float64\n",
      " 9   pH                    4395 non-null   float64\n",
      " 10  sulphates             4395 non-null   float64\n",
      " 11  alcohol               4395 non-null   float64\n",
      " 12  quality               4395 non-null   int64  \n",
      "dtypes: float64(11), int64(1), object(1)\n",
      "memory usage: 480.7+ KB\n"
     ]
    }
   ],
   "source": [
    "df.info()"
   ]
  },
  {
   "cell_type": "code",
   "execution_count": 20,
   "metadata": {
    "execution": {
     "iopub.execute_input": "2022-01-16T14:00:43.46409Z",
     "iopub.status.busy": "2022-01-16T14:00:43.463608Z",
     "iopub.status.idle": "2022-01-16T14:00:44.125651Z",
     "shell.execute_reply": "2022-01-16T14:00:44.1248Z",
     "shell.execute_reply.started": "2022-01-16T14:00:43.464038Z"
    }
   },
   "outputs": [
    {
     "data": {
      "image/png": "[encoded data removed]",
      "text/plain": [
       "<Figure size 1440x576 with 2 Axes>"
      ]
     },
     "metadata": {
      "needs_background": "light"
     },
     "output_type": "display_data"
    }
   ],
   "source": [
    "plt.figure(figsize=(20,8))\n",
    "mask = np.triu(df.corr(),-1)\n",
    "sns.heatmap(df.corr(), mask=mask, cmap='Greens', annot=True)\n",
    "plt.show()"
   ]
  },
  {
   "cell_type": "code",
   "execution_count": 21,
   "metadata": {
    "execution": {
     "iopub.execute_input": "2022-01-16T14:09:03.166881Z",
     "iopub.status.busy": "2022-01-16T14:09:03.166465Z",
     "iopub.status.idle": "2022-01-16T14:09:03.240959Z",
     "shell.execute_reply": "2022-01-16T14:09:03.238876Z",
     "shell.execute_reply.started": "2022-01-16T14:09:03.16685Z"
    }
   },
   "outputs": [
    {
     "data": {
      "text/html": [
       "<div>\n",
       "<style scoped>\n",
       "    .dataframe tbody tr th:only-of-type {\n",
       "        vertical-align: middle;\n",
       "    }\n",
       "\n",
       "    .dataframe tbody tr th {\n",
       "        vertical-align: top;\n",
       "    }\n",
       "\n",
       "    .dataframe thead th {\n",
       "        text-align: right;\n",
       "    }\n",
       "</style>\n",
       "<table border=\"1\" class=\"dataframe\">\n",
       "  <thead>\n",
       "    <tr style=\"text-align: right;\">\n",
       "      <th></th>\n",
       "      <th>Relation of 'type' with</th>\n",
       "      <th>Pearson's correnation value</th>\n",
       "    </tr>\n",
       "  </thead>\n",
       "  <tbody>\n",
       "    <tr>\n",
       "      <th>6</th>\n",
       "      <td>total sulfur dioxide</td>\n",
       "      <td>0.495899</td>\n",
       "    </tr>\n",
       "    <tr>\n",
       "      <th>5</th>\n",
       "      <td>free sulfur dioxide</td>\n",
       "      <td>0.296938</td>\n",
       "    </tr>\n",
       "    <tr>\n",
       "      <th>3</th>\n",
       "      <td>residual sugar</td>\n",
       "      <td>0.221497</td>\n",
       "    </tr>\n",
       "    <tr>\n",
       "      <th>2</th>\n",
       "      <td>citric acid</td>\n",
       "      <td>0.131523</td>\n",
       "    </tr>\n",
       "    <tr>\n",
       "      <th>11</th>\n",
       "      <td>quality</td>\n",
       "      <td>0.059525</td>\n",
       "    </tr>\n",
       "    <tr>\n",
       "      <th>10</th>\n",
       "      <td>alcohol</td>\n",
       "      <td>0.010589</td>\n",
       "    </tr>\n",
       "    <tr>\n",
       "      <th>7</th>\n",
       "      <td>density</td>\n",
       "      <td>-0.191902</td>\n",
       "    </tr>\n",
       "    <tr>\n",
       "      <th>0</th>\n",
       "      <td>fixed acidity</td>\n",
       "      <td>-0.246908</td>\n",
       "    </tr>\n",
       "    <tr>\n",
       "      <th>8</th>\n",
       "      <td>pH</td>\n",
       "      <td>-0.292325</td>\n",
       "    </tr>\n",
       "    <tr>\n",
       "      <th>9</th>\n",
       "      <td>sulphates</td>\n",
       "      <td>-0.326203</td>\n",
       "    </tr>\n",
       "    <tr>\n",
       "      <th>1</th>\n",
       "      <td>volatile acidity</td>\n",
       "      <td>-0.466590</td>\n",
       "    </tr>\n",
       "    <tr>\n",
       "      <th>4</th>\n",
       "      <td>chlorides</td>\n",
       "      <td>-0.583272</td>\n",
       "    </tr>\n",
       "  </tbody>\n",
       "</table>\n",
       "</div>"
      ],
      "text/plain": [
       "   Relation of 'type' with  Pearson's correnation value\n",
       "6     total sulfur dioxide                     0.495899\n",
       "5      free sulfur dioxide                     0.296938\n",
       "3           residual sugar                     0.221497\n",
       "2              citric acid                     0.131523\n",
       "11                 quality                     0.059525\n",
       "10                 alcohol                     0.010589\n",
       "7                  density                    -0.191902\n",
       "0            fixed acidity                    -0.246908\n",
       "8                       pH                    -0.292325\n",
       "9                sulphates                    -0.326203\n",
       "1         volatile acidity                    -0.466590\n",
       "4                chlorides                    -0.583272"
      ]
     },
     "execution_count": 21,
     "metadata": {},
     "output_type": "execute_result"
    }
   ],
   "source": [
    "bian = LabelBinarizer()\n",
    "y = bian.fit_transform(df.type)\n",
    "new = df.copy()\n",
    "new.type = y\n",
    "\n",
    "correlation = pd.DataFrame(columns=[\"Relation of 'type' with\", \"Pearson's correnation value\"])\n",
    "for index, feature in enumerate(numerical_columns):\n",
    "    corr,_ = pearsonr(new.type, new[feature])\n",
    "    correlation.loc[index] = [feature, corr]\n",
    "correlation = correlation.sort_values(\"Pearson's correnation value\", ascending=False)\n",
    "    \n",
    "correlation"
   ]
  },
  {
   "cell_type": "code",
   "execution_count": 22,
   "metadata": {
    "execution": {
     "iopub.execute_input": "2022-01-16T14:09:34.779144Z",
     "iopub.status.busy": "2022-01-16T14:09:34.778835Z",
     "iopub.status.idle": "2022-01-16T14:09:35.108552Z",
     "shell.execute_reply": "2022-01-16T14:09:35.107307Z",
     "shell.execute_reply.started": "2022-01-16T14:09:34.779111Z"
    }
   },
   "outputs": [
    {
     "data": {
      "image/png": "[encoded data removed]",
      "text/plain": [
       "<Figure size 1440x576 with 1 Axes>"
      ]
     },
     "metadata": {
      "needs_background": "light"
     },
     "output_type": "display_data"
    }
   ],
   "source": [
    "plt.figure(figsize=(20,8))\n",
    "sns.barplot(x=correlation[\"Relation of 'type' with\"], y=correlation[\"Pearson's correnation value\"])\n",
    "plt.show()"
   ]
  },
  {
   "cell_type": "code",
   "execution_count": 23,
   "metadata": {
    "execution": {
     "iopub.execute_input": "2022-01-16T14:12:14.60755Z",
     "iopub.status.busy": "2022-01-16T14:12:14.6071Z",
     "iopub.status.idle": "2022-01-16T14:12:14.630359Z",
     "shell.execute_reply": "2022-01-16T14:12:14.629363Z",
     "shell.execute_reply.started": "2022-01-16T14:12:14.607509Z"
    }
   },
   "outputs": [],
   "source": [
    "train, test = train_test_split(df, train_size=0.7, random_state=100, stratify=df.type)"
   ]
  },
  {
   "cell_type": "code",
   "execution_count": 24,
   "metadata": {
    "execution": {
     "iopub.execute_input": "2022-01-16T14:12:22.996333Z",
     "iopub.status.busy": "2022-01-16T14:12:22.995381Z",
     "iopub.status.idle": "2022-01-16T14:12:23.004848Z",
     "shell.execute_reply": "2022-01-16T14:12:23.003829Z",
     "shell.execute_reply.started": "2022-01-16T14:12:22.996288Z"
    }
   },
   "outputs": [],
   "source": [
    "X_train = train[numerical_columns]\n",
    "y_train = train.type\n",
    "\n",
    "X_test = test[numerical_columns]\n",
    "y_test = test.type"
   ]
  },
  {
   "cell_type": "code",
   "execution_count": 25,
   "metadata": {
    "execution": {
     "iopub.execute_input": "2022-01-16T14:12:38.884776Z",
     "iopub.status.busy": "2022-01-16T14:12:38.884462Z",
     "iopub.status.idle": "2022-01-16T14:12:38.894485Z",
     "shell.execute_reply": "2022-01-16T14:12:38.893443Z",
     "shell.execute_reply.started": "2022-01-16T14:12:38.884743Z"
    }
   },
   "outputs": [
    {
     "data": {
      "text/plain": [
       "white    2831\n",
       "red       245\n",
       "Name: type, dtype: int64"
      ]
     },
     "execution_count": 25,
     "metadata": {},
     "output_type": "execute_result"
    }
   ],
   "source": [
    "y_train.value_counts()"
   ]
  },
  {
   "cell_type": "code",
   "execution_count": 26,
   "metadata": {
    "execution": {
     "iopub.execute_input": "2022-01-16T14:13:22.370602Z",
     "iopub.status.busy": "2022-01-16T14:13:22.370295Z",
     "iopub.status.idle": "2022-01-16T14:13:22.411511Z",
     "shell.execute_reply": "2022-01-16T14:13:22.410189Z",
     "shell.execute_reply.started": "2022-01-16T14:13:22.370571Z"
    }
   },
   "outputs": [
    {
     "data": {
      "text/plain": [
       "white    2831\n",
       "red      2831\n",
       "Name: type, dtype: int64"
      ]
     },
     "execution_count": 26,
     "metadata": {},
     "output_type": "execute_result"
    }
   ],
   "source": [
    "smote = SMOTE()\n",
    "x_smote, y_smote = smote.fit_resample(X_train, y_train)\n",
    "\n",
    "y_smote.value_counts()"
   ]
  },
  {
   "cell_type": "code",
   "execution_count": 27,
   "metadata": {
    "execution": {
     "iopub.execute_input": "2022-01-16T14:14:04.413796Z",
     "iopub.status.busy": "2022-01-16T14:14:04.413409Z",
     "iopub.status.idle": "2022-01-16T14:14:04.438898Z",
     "shell.execute_reply": "2022-01-16T14:14:04.43815Z",
     "shell.execute_reply.started": "2022-01-16T14:14:04.413759Z"
    }
   },
   "outputs": [
    {
     "name": "stderr",
     "output_type": "stream",
     "text": [
      "/Users/Amazon/Documents/ml-course/env/lib/python3.9/site-packages/pandas/core/frame.py:3678: SettingWithCopyWarning: \n",
      "A value is trying to be set on a copy of a slice from a DataFrame.\n",
      "Try using .loc[row_indexer,col_indexer] = value instead\n",
      "\n",
      "See the caveats in the documentation: https://pandas.pydata.org/pandas-docs/stable/user_guide/indexing.html#returning-a-view-versus-a-copy\n",
      "  self[col] = igetitem(value, i)\n"
     ]
    }
   ],
   "source": [
    "scaler = MinMaxScaler()\n",
    "x_smote[numerical_columns] = scaler.fit_transform(x_smote[numerical_columns])\n",
    "X_test[numerical_columns] = scaler.transform(X_test[numerical_columns])"
   ]
  },
  {
   "cell_type": "code",
   "execution_count": 28,
   "metadata": {
    "execution": {
     "iopub.execute_input": "2022-01-16T14:16:35.644329Z",
     "iopub.status.busy": "2022-01-16T14:16:35.644046Z",
     "iopub.status.idle": "2022-01-16T14:16:38.892709Z",
     "shell.execute_reply": "2022-01-16T14:16:38.891728Z",
     "shell.execute_reply.started": "2022-01-16T14:16:35.6443Z"
    }
   },
   "outputs": [
    {
     "data": {
      "text/plain": [
       "0.9890503026768421"
      ]
     },
     "execution_count": 28,
     "metadata": {},
     "output_type": "execute_result"
    }
   ],
   "source": [
    "lr = LogisticRegression(random_state=22)\n",
    "folds = KFold(n_splits=5, shuffle=True, random_state=45)\n",
    "score = cross_val_score(estimator=lr, X=x_smote, y=y_smote, scoring='accuracy', cv=folds, n_jobs=-1)\n",
    "score.mean()"
   ]
  },
  {
   "cell_type": "code",
   "execution_count": 29,
   "metadata": {
    "execution": {
     "iopub.execute_input": "2022-01-16T14:17:09.476912Z",
     "iopub.status.busy": "2022-01-16T14:17:09.476551Z",
     "iopub.status.idle": "2022-01-16T14:17:09.578896Z",
     "shell.execute_reply": "2022-01-16T14:17:09.577804Z",
     "shell.execute_reply.started": "2022-01-16T14:17:09.476874Z"
    }
   },
   "outputs": [],
   "source": [
    "lr.fit(x_smote, y_smote)\n",
    "test['predicted_type'] = lr.predict(X_test)"
   ]
  },
  {
   "cell_type": "code",
   "execution_count": 30,
   "metadata": {
    "execution": {
     "iopub.execute_input": "2022-01-16T14:17:13.705232Z",
     "iopub.status.busy": "2022-01-16T14:17:13.704151Z",
     "iopub.status.idle": "2022-01-16T14:17:13.78123Z",
     "shell.execute_reply": "2022-01-16T14:17:13.780261Z",
     "shell.execute_reply.started": "2022-01-16T14:17:13.705156Z"
    }
   },
   "outputs": [
    {
     "name": "stdout",
     "output_type": "stream",
     "text": [
      "              precision    recall  f1-score   support\n",
      "\n",
      "         red       0.92      0.97      0.94       105\n",
      "       white       1.00      0.99      1.00      1214\n",
      "\n",
      "    accuracy                           0.99      1319\n",
      "   macro avg       0.96      0.98      0.97      1319\n",
      "weighted avg       0.99      0.99      0.99      1319\n",
      "\n"
     ]
    }
   ],
   "source": [
    "print(classification_report(y_test, test.predicted_type))"
   ]
  },
  {
   "cell_type": "code",
   "execution_count": 31,
   "metadata": {
    "execution": {
     "iopub.execute_input": "2022-01-16T14:19:55.26025Z",
     "iopub.status.busy": "2022-01-16T14:19:55.259211Z",
     "iopub.status.idle": "2022-01-16T14:19:55.421044Z",
     "shell.execute_reply": "2022-01-16T14:19:55.420409Z",
     "shell.execute_reply.started": "2022-01-16T14:19:55.260201Z"
    }
   },
   "outputs": [
    {
     "data": {
      "text/plain": [
       "0.9890509264312826"
      ]
     },
     "execution_count": 31,
     "metadata": {},
     "output_type": "execute_result"
    }
   ],
   "source": [
    "from sklearn.tree import DecisionTreeClassifier\n",
    "dt = DecisionTreeClassifier(random_state=22)\n",
    "folds = KFold(n_splits=5, shuffle=True, random_state=45)\n",
    "score = cross_val_score(estimator=dt, X=x_smote, y=y_smote, scoring='accuracy', cv=folds, n_jobs=-1)\n",
    "score.mean()"
   ]
  },
  {
   "cell_type": "code",
   "execution_count": 32,
   "metadata": {
    "execution": {
     "iopub.execute_input": "2022-01-16T14:20:33.760224Z",
     "iopub.status.busy": "2022-01-16T14:20:33.759866Z",
     "iopub.status.idle": "2022-01-16T14:20:35.743457Z",
     "shell.execute_reply": "2022-01-16T14:20:35.742786Z",
     "shell.execute_reply.started": "2022-01-16T14:20:33.760181Z"
    }
   },
   "outputs": [
    {
     "data": {
      "text/plain": [
       "0.9954082316873493"
      ]
     },
     "execution_count": 32,
     "metadata": {},
     "output_type": "execute_result"
    }
   ],
   "source": [
    "from sklearn.ensemble import RandomForestClassifier\n",
    "rf = RandomForestClassifier(random_state=22, max_features= 4, max_depth= 12)\n",
    "folds = KFold(n_splits=5, shuffle=True, random_state=45)\n",
    "score = cross_val_score(estimator=rf, X=x_smote, y=y_smote, scoring='accuracy', cv=folds, n_jobs=-1)\n",
    "score.mean()"
   ]
  },
  {
   "cell_type": "code",
   "execution_count": 33,
   "metadata": {
    "execution": {
     "iopub.execute_input": "2022-01-16T14:25:59.675615Z",
     "iopub.status.busy": "2022-01-16T14:25:59.675112Z",
     "iopub.status.idle": "2022-01-16T14:25:59.679909Z",
     "shell.execute_reply": "2022-01-16T14:25:59.678927Z",
     "shell.execute_reply.started": "2022-01-16T14:25:59.67558Z"
    }
   },
   "outputs": [],
   "source": [
    "from sklearn.model_selection import GridSearchCV, RandomizedSearchCV"
   ]
  },
  {
   "cell_type": "code",
   "execution_count": 34,
   "metadata": {
    "execution": {
     "iopub.execute_input": "2022-01-16T14:32:25.655779Z",
     "iopub.status.busy": "2022-01-16T14:32:25.655471Z",
     "iopub.status.idle": "2022-01-16T14:32:45.765206Z",
     "shell.execute_reply": "2022-01-16T14:32:45.764095Z",
     "shell.execute_reply.started": "2022-01-16T14:32:25.655748Z"
    }
   },
   "outputs": [
    {
     "name": "stdout",
     "output_type": "stream",
     "text": [
      "Fitting 5 folds for each of 10 candidates, totalling 50 fits\n"
     ]
    },
    {
     "data": {
      "text/plain": [
       "RandomizedSearchCV(cv=KFold(n_splits=5, random_state=45, shuffle=True),\n",
       "                   estimator=RandomForestClassifier(max_depth=12,\n",
       "                                                    max_features=4,\n",
       "                                                    random_state=22),\n",
       "                   n_jobs=-1,\n",
       "                   param_distributions={'max_depth': [3, 5, 7, 9, 12],\n",
       "                                        'max_features': [2, 3, 4, 5, 9, 10]},\n",
       "                   scoring='accuracy', verbose=1)"
      ]
     },
     "execution_count": 34,
     "metadata": {},
     "output_type": "execute_result"
    }
   ],
   "source": [
    "parameters = {'max_depth': [3,5,7,9,12],\n",
    "             'max_features': [2,3,4,5,9,10]}\n",
    "\n",
    "rcv = RandomizedSearchCV(estimator=rf, param_distributions=parameters, n_iter=10, n_jobs=-1,\n",
    "                        scoring='accuracy', cv=folds, verbose=1)\n",
    "rcv.fit(x_smote, y_smote)"
   ]
  },
  {
   "cell_type": "code",
   "execution_count": 35,
   "metadata": {
    "execution": {
     "iopub.execute_input": "2022-01-16T14:33:16.304634Z",
     "iopub.status.busy": "2022-01-16T14:33:16.303821Z",
     "iopub.status.idle": "2022-01-16T14:33:16.312324Z",
     "shell.execute_reply": "2022-01-16T14:33:16.311482Z",
     "shell.execute_reply.started": "2022-01-16T14:33:16.30457Z"
    }
   },
   "outputs": [
    {
     "data": {
      "text/plain": [
       "{'max_features': 3, 'max_depth': 12}"
      ]
     },
     "execution_count": 35,
     "metadata": {},
     "output_type": "execute_result"
    }
   ],
   "source": [
    "rcv.best_params_"
   ]
  }
 ],
 "metadata": {
  "kernelspec": {
   "display_name": "Python 3 (ipykernel)",
   "language": "python",
   "name": "python3"
  },
  "language_info": {
   "codemirror_mode": {
    "name": "ipython",
    "version": 3
   },
   "file_extension": ".py",
   "mimetype": "text/x-python",
   "name": "python",
   "nbconvert_exporter": "python",
   "pygments_lexer": "ipython3",
   "version": "3.9.7"
  }
 },
 "nbformat": 4,
 "nbformat_minor": 4
}
